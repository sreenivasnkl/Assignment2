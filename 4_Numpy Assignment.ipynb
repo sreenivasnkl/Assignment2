{
 "cells": [
  {
   "cell_type": "code",
   "execution_count": 2,
   "metadata": {},
   "outputs": [],
   "source": [
    "import numpy as np\n",
    "import sys"
   ]
  },
  {
   "cell_type": "markdown",
   "metadata": {},
   "source": [
    "# 1. Write a function so that the columns of the output matrix are powers of the input vector.\n",
    "    #The order of the powers is determined by the increasing boolean argument. Specifically, when increasing \n",
    "    #is False, the i-th output column is the input vector raised element-wise to the power of N - i - 1.\n"
   ]
  },
  {
   "cell_type": "code",
   "execution_count": 10,
   "metadata": {},
   "outputs": [
    {
     "name": "stdout",
     "output_type": "stream",
     "text": [
      "Number of Elements required : 4\n",
      "Enter the Elements : 1\n",
      "Enter the Elements : 2\n",
      "Enter the Elements : 3\n",
      "Enter the Elements : 4\n",
      "Increment value(0-False & 1-True :) 0\n",
      "[[ 1  1  1  1]\n",
      " [ 8  4  2  1]\n",
      " [27  9  3  1]\n",
      " [64 16  4  1]]\n"
     ]
    }
   ],
   "source": [
    "def vand(x, inc):\n",
    "    n = len(x)\n",
    "    y= np.column_stack([np.array(x)**(n-1-i) for i in range(n)])\n",
    "\n",
    "    if inc == False:\n",
    "        print(y)\n",
    "        return y\n",
    "    else:\n",
    "        print(y[:,-1::-1])\n",
    "        return y[:,-1::-1]\n",
    "     \n",
    "    \n",
    "def check():4\n",
    "    \n",
    "    try:\n",
    "       x = [int(input('Enter the Elements : ')) for i in range(int(input('Number of Elements required : ')))] \n",
    "       inc = np.bool(int(input('Increment value(0-False & 1-True :) ')))\n",
    "       vand(x, inc)    \n",
    "    except:\n",
    "        print(\"Oops!\",sys.exc_info()[0],\"occured.\")\n",
    "\n",
    "\n",
    "check()\n"
   ]
  },
  {
   "cell_type": "markdown",
   "metadata": {},
   "source": [
    "# Problem Statement 2:\n",
    "#Given a sequence of n values x1, x2, ..., xn and a window= size k>0, the k-th moving average of the given sequence is defined as follows:\n",
    "#The moving average sequence has n-k+1 elements as shown below.The moving averages with k=4 of a ten-value sequence (n=10) is shown below\n"
   ]
  },
  {
   "cell_type": "code",
   "execution_count": 11,
   "metadata": {},
   "outputs": [
    {
     "name": "stdout",
     "output_type": "stream",
     "text": [
      "Number of Elements required : 10\n",
      "Enter the Elements : 10\n",
      "Enter the Elements : 20\n",
      "Enter the Elements : 30\n",
      "Enter the Elements : 40\n",
      "Enter the Elements : 50\n",
      "Enter the Elements : 60\n",
      "Enter the Elements : 70\n",
      "Enter the Elements : 80\n",
      "Enter the Elements : 90\n",
      "Enter the Elements : 100\n",
      "Enter the Window Size : 4\n",
      "y 1 = 25.0\n",
      "y 2 = 35.0\n",
      "y 3 = 45.0\n",
      "y 4 = 55.0\n",
      "y 5 = 65.0\n",
      "y 6 = 75.0\n",
      "y 7 = 85.0\n"
     ]
    }
   ],
   "source": [
    "n = np.array([int(input('Enter the Elements : ')) for i in range(int(input('Number of Elements required : ')))])\n",
    "k = int(input(\"Enter the Window Size : \"))\n",
    "sum_1 = 0\n",
    "\n",
    "def movingavg():\n",
    "    for i in range(0,len(n)-k+1):\n",
    "        sum_1 = sum(n[i:i+k])\n",
    "        avg = sum_1/k\n",
    "        print(\"y\",i+1, \"=\", avg)\n",
    "        \n",
    "        \n",
    "movingavg()      "
   ]
  }
 ],
 "metadata": {
  "kernelspec": {
   "display_name": "Python 3",
   "language": "python",
   "name": "python3"
  },
  "language_info": {
   "codemirror_mode": {
    "name": "ipython",
    "version": 3
   },
   "file_extension": ".py",
   "mimetype": "text/x-python",
   "name": "python",
   "nbconvert_exporter": "python",
   "pygments_lexer": "ipython3",
   "version": "3.7.1"
  }
 },
 "nbformat": 4,
 "nbformat_minor": 2
}
